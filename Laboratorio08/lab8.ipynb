{
 "cells": [
  {
   "cell_type": "markdown",
   "metadata": {},
   "source": [
    "# Laboratorio 8\n",
    "\n",
    "## Integrantes\n",
    "\n",
    "### Sergio Orellana - 221122\n",
    "\n",
    "### Andre Marroquin - 22266\n",
    "\n",
    "### Rodrigo Mansilla - 22611\n",
    "\n",
    "# Link del repositorio\n",
    "\n",
    "https://github.com/mar22266/LABORATORIOS-IA.git\n",
    "\n"
   ]
  },
  {
   "cell_type": "markdown",
   "metadata": {},
   "source": [
    "# Task 1 Teoría"
   ]
  },
  {
   "cell_type": "markdown",
   "metadata": {},
   "source": [
    "1. Investigar el algoritmo AC-3 y su relación con el algoritmo de backtracking search \n",
    "\n",
    "        R// El algoritmo AC-3 (Arc Consistency Algorithm 3) es un método utilizado en problemas de satisfacción de restricciones (CSP) para lograr la consistencia de arcos. Su función principal es reducir los dominios de las variables eliminando valores que no satisfacen las restricciones binarias entre pares de variables. Esto se realiza iterativamente hasta que no se puedan hacer más reducciones o se detecte que algún dominio queda vacío, indicando que el CSP no tiene solución.\n",
    "\n",
    "        Por otro lado, el backtracking search es una técnica de búsqueda en profundidad que asigna valores a las variables de manera tentativa y retrocede backtracks cuando se encuentra una inconsistencia, explorando así todas las posibles combinaciones hasta encontrar una solución o determinar que no existe.\n",
    "\n",
    "        La relación entre AC-3 y el backtracking search esta en que AC-3 puede usarse como un paso previo al backtracking para reducir los dominios de las variables, facilitando así la búsqueda. Al aplicar AC-3 antes de iniciar el backtracking, se eliminan valores inconsistentes, lo que puede disminuir significativamente el espacio de búsqueda y mejorar la eficiencia del proceso de\n",
    "\n",
    "\n",
    "2. Defina en sus propias palabras el término “Arc Consistency” \n",
    "\n",
    "        R// La \"consistencia de arcos\" es una propiedad que aparece en problemas de satisfacción de restricciones. Esto implica que, cuando se tienen dos variables relacionadas por una restricción, cada valor posible de una variable debe tener al menos un valor compatible en la otra. En otras palabras, no deberían existir valores en el dominio de una variable que, al ser elegidos, impidan encontrar valores válidos en la otra variable según la restricción que las une.\n",
    "\n",
    "\n",
    "\n",
    "\n",
    "\n",
    "\n",
    "\n",
    "\n",
    "        "
   ]
  },
  {
   "cell_type": "markdown",
   "metadata": {},
   "source": [
    "# Task 2 - CSP con Backtracking, Beam y Local Search"
   ]
  },
  {
   "cell_type": "code",
   "execution_count": null,
   "metadata": {},
   "outputs": [],
   "source": []
  },
  {
   "cell_type": "markdown",
   "metadata": {},
   "source": [
    "# Referencias:\n",
    "\n",
    "- GeeksforGeeks. (2024, 12 junio). Explain the Concept of Backtracking Search and Its Role in Finding Solutions to CSPs. GeeksforGeeks. https://www.geeksforgeeks.org/explain-the-concept-of-backtracking-search-and-its-role-in-finding-solutions-to-csps/\n",
    "\n",
    "- Boris. (2025, 28 febrero). ARC consistency explained. BorisTheBrave.Com. https://www.boristhebrave.com/2021/08/30/arc-consistency-explained/\n",
    "\n",
    "- AC-3 algorithm and backtracking. (s. f.). Stack Overflow. https://stackoverflow.com/questions/15462253/ac-3-algorithm-and-backtracking\n",
    "\n",
    "- Lecture 3 - CSCI E-80. (s. f.). https://cs50.harvard.edu/extension/ai/2021/fall/notes/3/\n",
    "\n",
    "- Arc consistency. (2005). https://www.cs.cmu.edu/afs/cs/project/jair/pub/volume24/samaras05a-html/node4.html"
   ]
  }
 ],
 "metadata": {
  "kernelspec": {
   "display_name": "Python 3",
   "language": "python",
   "name": "python3"
  },
  "language_info": {
   "codemirror_mode": {
    "name": "ipython",
    "version": 3
   },
   "file_extension": ".py",
   "mimetype": "text/x-python",
   "name": "python",
   "nbconvert_exporter": "python",
   "pygments_lexer": "ipython3",
   "version": "3.12.9"
  }
 },
 "nbformat": 4,
 "nbformat_minor": 2
}
