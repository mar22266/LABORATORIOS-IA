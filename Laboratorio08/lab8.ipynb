{
 "cells": [
  {
   "cell_type": "markdown",
   "metadata": {},
   "source": [
    "# Laboratorio 8\n",
    "\n",
    "## Integrantes\n",
    "\n",
    "### Sergio Orellana - 221122\n",
    "\n",
    "### Andre Marroquin - 22266\n",
    "\n",
    "### Rodrigo Mansilla - 22611\n",
    "\n",
    "# Link del repositorio\n",
    "\n",
    "https://github.com/mar22266/LABORATORIOS-IA.git\n"
   ]
  },
  {
   "cell_type": "markdown",
   "metadata": {},
   "source": [
    "# Task 1 Teoría\n"
   ]
  },
  {
   "cell_type": "markdown",
   "metadata": {},
   "source": [
    "1.  Investigar el algoritmo AC-3 y su relación con el algoritmo de backtracking search\n",
    "\n",
    "        R// El algoritmo AC-3 (Arc Consistency Algorithm 3) es un método utilizado en problemas de satisfacción de restricciones (CSP) para lograr la consistencia de arcos. Su función principal es reducir los dominios de las variables eliminando valores que no satisfacen las restricciones binarias entre pares de variables. Esto se realiza iterativamente hasta que no se puedan hacer más reducciones o se detecte que algún dominio queda vacío, indicando que el CSP no tiene solución.\n",
    "\n",
    "        Por otro lado, el backtracking search es una técnica de búsqueda en profundidad que asigna valores a las variables de manera tentativa y retrocede backtracks cuando se encuentra una inconsistencia, explorando así todas las posibles combinaciones hasta encontrar una solución o determinar que no existe.\n",
    "\n",
    "        La relación entre AC-3 y el backtracking search esta en que AC-3 puede usarse como un paso previo al backtracking para reducir los dominios de las variables, facilitando así la búsqueda. Al aplicar AC-3 antes de iniciar el backtracking, se eliminan valores inconsistentes, lo que puede disminuir significativamente el espacio de búsqueda y mejorar la eficiencia del proceso de\n",
    "\n",
    "2.  Defina en sus propias palabras el término “Arc Consistency”\n",
    "\n",
    "        R// La \"consistencia de arcos\" es una propiedad que aparece en problemas de satisfacción de restricciones. Esto implica que, cuando se tienen dos variables relacionadas por una restricción, cada valor posible de una variable debe tener al menos un valor compatible en la otra. En otras palabras, no deberían existir valores en el dominio de una variable que, al ser elegidos, impidan encontrar valores válidos en la otra variable según la restricción que las une.\n"
   ]
  },
  {
   "cell_type": "markdown",
   "metadata": {},
   "source": [
    "# Task 2 - CSP con Backtracking, Beam y Local Search\n"
   ]
  },
  {
   "cell_type": "markdown",
   "metadata": {},
   "source": [
    "### 1. Definición del problema, variables y restricciones\n",
    "\n",
    "Las variables que se utilizarán son:\n",
    "\n",
    "- Exam1\n",
    "- Exam2\n",
    "- Exam3\n",
    "- Exam4\n",
    "- Exam5\n",
    "- Exam6\n",
    "- Exam7\n",
    "\n",
    "Los dominios de cada variable son los 3 días que se nos indicaron:\n",
    "\n",
    "- Lunes\n",
    "- Martes\n",
    "- Miércoles\n",
    "\n",
    "Restricciones\n",
    "\n",
    "En la forma que tomaremos la ejecución de cada examen es la siguiente:\n",
    "\n",
    "- Rodri tomará Exam1, Exam2 y Exam3\n",
    "- Suarino tomará Exam2, Exam4 y Exam5\n",
    "- Sergio tomará Exam3, Exam5 y Exam6\n",
    "- Andre tomará Exam1, Exam4 y Exam7\n"
   ]
  },
  {
   "cell_type": "code",
   "execution_count": null,
   "metadata": {},
   "outputs": [],
   "source": [
    "import time\n",
    "\n",
    "# Definición de variables y dominios\n",
    "exams = [\"Exam1\", \"Exam2\", \"Exam3\", \"Exam4\", \"Exam5\", \"Exam6\", \"Exam7\"]\n",
    "days = [\"Lunes\", \"Martes\", \"Miércoles\"]\n",
    "\n",
    "# Definición de los estudiantes inscritos en cada examen.\n",
    "enrollment = {\n",
    "    \"Exam1\": [\"Rodri\", \"Andre\"],\n",
    "    \"Exam2\": [\"Rodri\", \"Suarino\"],\n",
    "    \"Exam3\": [\"Rodri\", \"Sergio\"],\n",
    "    \"Exam4\": [\"Suarino\", \"Andre\"],\n",
    "    \"Exam5\": [\"Suarino\", \"Sergio\"],\n",
    "    \"Exam6\": [\"Sergio\"],\n",
    "    \"Exam7\": [\"Andre\"],\n",
    "}\n",
    "\n",
    "\n",
    "# Función para contar conflictos en una asignación completa\n",
    "def count_conflicts(assignment):\n",
    "    conflicts = 0\n",
    "    # Se comparan pares de exámenes\n",
    "    for i in range(len(exams)):\n",
    "        for j in range(i + 1, len(exams)):\n",
    "            exam1 = exams[i]\n",
    "            exam2 = exams[j]\n",
    "            if exam1 in assignment and exam2 in assignment:\n",
    "                if assignment[exam1] == assignment[exam2]:\n",
    "                    # Si comparten estudiante y están en el mismo día, hay conflicto.\n",
    "                    if set(enrollment[exam1]).intersection(enrollment[exam2]):\n",
    "                        conflicts += 1\n",
    "    return conflicts\n",
    "\n",
    "\n",
    "# Función para verificar si agregar (exam, day) es consistente con la asignación actual.\n",
    "def is_consistent(assignment, exam, day):\n",
    "    for other_exam, assigned_day in assignment.items():\n",
    "        if assigned_day == day:\n",
    "            # Si exam y otro examen comparten estudiante, no pueden ser el mismo día.\n",
    "            if set(enrollment[exam]).intersection(enrollment[other_exam]):\n",
    "                return False\n",
    "    return True"
   ]
  },
  {
   "cell_type": "markdown",
   "metadata": {},
   "source": [
    "# Referencias:\n",
    "\n",
    "- GeeksforGeeks. (2024, 12 junio). Explain the Concept of Backtracking Search and Its Role in Finding Solutions to CSPs. GeeksforGeeks. https://www.geeksforgeeks.org/explain-the-concept-of-backtracking-search-and-its-role-in-finding-solutions-to-csps/\n",
    "\n",
    "- Boris. (2025, 28 febrero). ARC consistency explained. BorisTheBrave.Com. https://www.boristhebrave.com/2021/08/30/arc-consistency-explained/\n",
    "\n",
    "- AC-3 algorithm and backtracking. (s. f.). Stack Overflow. https://stackoverflow.com/questions/15462253/ac-3-algorithm-and-backtracking\n",
    "\n",
    "- Lecture 3 - CSCI E-80. (s. f.). https://cs50.harvard.edu/extension/ai/2021/fall/notes/3/\n",
    "\n",
    "- Arc consistency. (2005). https://www.cs.cmu.edu/afs/cs/project/jair/pub/volume24/samaras05a-html/node4.html\n",
    "\n",
    "- Bowen, E. (2024, 19 noviembre). Understanding the beam search algorithm in NLP. Telnyx. https://telnyx.com/learn-ai/beam-search-algorithm\n",
    "\n",
    "- Achury, N. F. C. (2024, 1 febrero). ¿Qué es y para qué sirven los algoritmos Backtracking o Retroceso?\\*. Datum Digital Marketing. https://datumdigitalmarketing.com/noticias/que-es-y-para-que-sirven-los-algoritmos-backtracking-o-retroceso\n",
    "\n",
    "- Building, C. (s. f.). Local search. https://www.complexica.com/narrow-ai-glossary/local-search\n"
   ]
  }
 ],
 "metadata": {
  "kernelspec": {
   "display_name": "Python 3",
   "language": "python",
   "name": "python3"
  },
  "language_info": {
   "codemirror_mode": {
    "name": "ipython",
    "version": 3
   },
   "file_extension": ".py",
   "mimetype": "text/x-python",
   "name": "python",
   "nbconvert_exporter": "python",
   "pygments_lexer": "ipython3",
   "version": "3.12.2"
  }
 },
 "nbformat": 4,
 "nbformat_minor": 2
}
