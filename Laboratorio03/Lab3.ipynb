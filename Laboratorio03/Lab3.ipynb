{
 "cells": [
  {
   "cell_type": "markdown",
   "metadata": {},
   "source": [
    "## Laboratorio 3\n",
    "\n",
    "### Andre Marroquin Tarot- 22266\n",
    "\n",
    "### Sergio Orellana- 221122\n",
    "\n",
    "### Rodrigo Mansilla 22611\n",
    "\n",
    "LINK GIT: https://github.com/mar22266/LABORATORIOS-IA.git\n"
   ]
  },
  {
   "cell_type": "markdown",
   "metadata": {},
   "source": [
    "# Task 1 - Preguntas Teóricas\n",
    "\n",
    "1. Explique la diferencia entre descenso de gradiente, descenso de gradiente por mini batches y descenso de \n",
    "gradiente estocástico. Asegúrese de mencionar las ventajas y desventajas de cada enfoque. \n",
    "    \n",
    "    R//\n",
    "\n",
    "2. Compare y contraste técnicas de extracción de features (feature extraction)  y selección de features (feature selection) en machine learning. De ejemplos de escenarios donde cada técnica sería más apropiada.\n",
    "\n",
    "    R//\n",
    "\n",
    "3. Describa la arquitectura y el funcionamiento de un perceptrón de una sola capa (un tipo de red neuronal sin \n",
    "backpropagation). Explique cómo aprende y la forma en la que actualiza sus parámetros.\n",
    "\n",
    "    R//"
   ]
  },
  {
   "cell_type": "markdown",
   "metadata": {},
   "source": [
    "# Task 2 y 2.1 Gradiente Descendiente Estocástico"
   ]
  },
  {
   "cell_type": "markdown",
   "metadata": {},
   "source": [
    "# Task 2.2  Feature Selection"
   ]
  },
  {
   "cell_type": "markdown",
   "metadata": {},
   "source": [
    "# Task 3 Perceptrón"
   ]
  },
  {
   "cell_type": "markdown",
   "metadata": {},
   "source": [
    "## Referencias:"
   ]
  }
 ],
 "metadata": {
  "language_info": {
   "name": "python"
  }
 },
 "nbformat": 4,
 "nbformat_minor": 2
}
