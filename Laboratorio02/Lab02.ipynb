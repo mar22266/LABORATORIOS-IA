{
 "cells": [
  {
   "cell_type": "markdown",
   "metadata": {},
   "source": [
    "## Laboratorio 2\n",
    "\n",
    "### Andre Marroquin Tarot- 22266\n",
    "\n",
    "### Sergio Orellana- 221122\n",
    "\n",
    "### Rodrigo Mansilla 22611\n",
    "\n",
    "LINK GIT: https://github.com/mar22266/LABORATORIOS-IA.git"
   ]
  },
  {
   "cell_type": "markdown",
   "metadata": {},
   "source": [
    "# Task 1 - Preguntas Teóricas\n",
    "\n",
    "1. ¿Por qué el modelo de Naive Bayes se le considera “naive”?\n",
    "\n",
    "    R//\n",
    "\n",
    "\n",
    "2. Explique la formulación matemática que se busca optimizar en Support Vector Machine, además responda\n",
    "¿cómo funciona el truco del Kernel para este modelo? (Lo que se espera de esta pregunta es que puedan\n",
    "explicar en sus propias palabras la fórmula a la que llegamos que debemos optimizar de SVM en clase)\n",
    "\n",
    "    R//\n",
    "\n",
    "\n",
    "3. Investigue sobre Random Forest y responda\n",
    "\n",
    "    a. ¿Qué tipo de ensemble learning es este modelo?\n",
    "\n",
    "        R//\n",
    "\n",
    "    b. ¿Cuál es la idea general detrás de Random Forest?\n",
    "\n",
    "        R//\n",
    "\n",
    "    c. ¿Por qué se busca baja correlación entre los árboles de Random Forest?\n",
    "\n",
    "        R//"
   ]
  }
 ],
 "metadata": {
  "language_info": {
   "name": "python"
  }
 },
 "nbformat": 4,
 "nbformat_minor": 2
}
