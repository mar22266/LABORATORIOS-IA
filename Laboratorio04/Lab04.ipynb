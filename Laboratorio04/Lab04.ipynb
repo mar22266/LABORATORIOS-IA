{
 "cells": [
  {
   "cell_type": "markdown",
   "metadata": {},
   "source": [
    "## Laboratorio 4\n",
    "\n",
    "### Andre Marroquin Tarot- 22266\n",
    "\n",
    "### Sergio Orellana- 221122\n",
    "\n",
    "### Rodrigo Mansilla 22611\n",
    "\n",
    "LINK GIT: https://github.com/mar22266/LABORATORIOS-IA.git\n"
   ]
  },
  {
   "cell_type": "markdown",
   "metadata": {},
   "source": [
    "# Task 1"
   ]
  },
  {
   "cell_type": "markdown",
   "metadata": {},
   "source": [
    "1. Explique con sus propias palabras, qué son los grafos computaciones y cuál es su importancia para el \n",
    "cálculo de gradientes en aplicaciones como backpropagation \n",
    "\n",
    "        R//\n",
    "\n",
    "\n",
    "2. Detalle cuales son los componentes y pasos que conforman una red neuronal. Con esto en mente, ¿cómo \n",
    "mejoraría el perceptrón que hizo en el laboratorio pasado? \n",
    "\n",
    "        R//\n",
    "\n",
    "\n",
    "3. Investigue y explique cómo se selecciona el valor K usando el método de la silueta para el algoritmo de K\n",
    "Means. Explique las fórmulas (ecuaciones) que lo componen así como las asumpciones, si hay. \n",
    "\n",
    "        R//\n",
    "\n",
    "\n",
    "4. Investigue sobre Principal Component Analysis (PCA) y responda respecto a algoritmos como K-Means: \n",
    "a. ¿Cómo podría ayudarle a mejorar la calidad de sus clusters cuando se usa K-Means?\n",
    "\n",
    "        R//"
   ]
  },
  {
   "cell_type": "markdown",
   "metadata": {},
   "source": [
    "# Task 2 y 2.1 - K-Means y Segmentación de Clientes de Banco"
   ]
  },
  {
   "cell_type": "markdown",
   "metadata": {},
   "source": [
    "# 2.1.1 - K-Means"
   ]
  }
 ],
 "metadata": {
  "kernelspec": {
   "display_name": "Python 3",
   "language": "python",
   "name": "python3"
  },
  "language_info": {
   "name": "python",
   "version": "3.12.9"
  }
 },
 "nbformat": 4,
 "nbformat_minor": 2
}
