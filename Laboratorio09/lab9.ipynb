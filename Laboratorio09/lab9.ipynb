{
 "cells": [
  {
   "cell_type": "markdown",
   "id": "a5dc382e",
   "metadata": {},
   "source": [
    "# Laboratorio 9\n",
    "\n",
    "## Integrantes\n",
    "\n",
    "### Sergio Orellana - 221122\n",
    "\n",
    "### Andre Marroquin - 22266\n",
    "\n",
    "### Rodrigo Mansilla - 22611\n",
    "\n",
    "# Link del repositorio\n",
    "\n",
    "https://github.com/mar22266/LABORATORIOS-IA.git\n",
    "\n",
    "# Link del video\n"
   ]
  },
  {
   "cell_type": "markdown",
   "id": "0e93d21c",
   "metadata": {},
   "source": [
    "# Tasks 1 - Teoría\n",
    "\n",
    "## 1. ¿Cuál es la diferencia entre Modelos de Markov y Hidden Markov Models?\n",
    "\n",
    "        R//\n",
    "\n",
    "\n",
    "## 2. ¿Qué son los Factorial HMM (Hidden Markov Models)?\n",
    "        R//\n",
    "\n",
    "\n",
    "\n",
    "## 3. Especifique en sus propias palabras el algoritmo Forward-Backward para HMM\n",
    "        R//\n",
    "\n",
    "\n",
    "\n",
    "## 4. ¿Por qué es necesario el paso de Backward en el algoritmo Forward-Backward?\n",
    "        R//\n",
    "\n",
    "        "
   ]
  },
  {
   "cell_type": "code",
   "execution_count": null,
   "id": "ca5d7869",
   "metadata": {},
   "outputs": [],
   "source": []
  },
  {
   "cell_type": "markdown",
   "id": "094f37d0",
   "metadata": {},
   "source": [
    "# Task 2 - Algoritmo Forward Backward en HMM "
   ]
  }
 ],
 "metadata": {
  "kernelspec": {
   "display_name": "Python 3",
   "language": "python",
   "name": "python3"
  },
  "language_info": {
   "name": "python",
   "version": "3.12.10"
  }
 },
 "nbformat": 4,
 "nbformat_minor": 5
}
