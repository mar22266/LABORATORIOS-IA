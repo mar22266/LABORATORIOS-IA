{
 "cells": [
  {
   "cell_type": "markdown",
   "metadata": {},
   "source": [
    "# Laboratorio 6\n",
    "\n",
    "## Integrantes\n",
    "\n",
    "### Sergio Orellana - 221122\n",
    "\n",
    "### Andre Marroquin - 22266\n",
    "\n",
    "### Rodrigo Mansilla - 22611\n",
    "\n",
    "# Link del repositorio\n",
    "\n",
    "https://github.com/mar22266/LABORATORIOS-IA.git\n",
    "\n",
    "# Link del video"
   ]
  },
  {
   "cell_type": "markdown",
   "metadata": {},
   "source": [
    "# Tasks 1 - Teoría "
   ]
  },
  {
   "cell_type": "markdown",
   "metadata": {},
   "source": [
    "1. En un juego de suma cero para dos jugadores, ¿cómo funciona el algoritmo minimax para determinar la \n",
    "estrategia óptima para cada jugador? ¿Puede explicarnos el concepto de \"valor minimax\" y su importancia \n",
    "en este contexto? \n",
    "\n",
    "        R//\n",
    "\n",
    "\n",
    "2. Compare y contraste el algoritmo minimax con la poda alfa-beta. ¿Cómo mejora la poda alfa-beta la \n",
    "eficiencia del algoritmo minimax, particularmente en árboles de caza grandes? Proporcione un ejemplo \n",
    "para ilustrar la diferencia en la complejidad computacional entre la poda minimax y alfa-beta. \n",
    "\n",
    "        R//\n",
    "\n",
    "\n",
    "3. ¿Cuál es el papel de expectiminimax en juegos con incertidumbre, como aquellos que involucran nodos de \n",
    "azar o información oculta? ¿En qué se diferencia el expectiminimax del minimax en el manejo de \n",
    "resultados probabilísticos y cuáles son los desafíos clave que aborda? \n",
    "\n",
    "        R//\n",
    "\n",
    "        "
   ]
  }
 ],
 "metadata": {
  "kernelspec": {
   "display_name": "Python 3",
   "language": "python",
   "name": "python3"
  },
  "language_info": {
   "name": "python",
   "version": "3.12.9"
  }
 },
 "nbformat": 4,
 "nbformat_minor": 2
}
