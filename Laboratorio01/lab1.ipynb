{
 "cells": [
  {
   "cell_type": "markdown",
   "metadata": {},
   "source": [
    "Laboratorio 1\n",
    "\n",
    "\n",
    "\n",
    "Andre Marroquin Tarot- 22266\n",
    "\n",
    "Sergio Orellana- 221122\n",
    "\n",
    "Rodrigo Mansilla 22611\n"
   ]
  },
  {
   "cell_type": "code",
   "execution_count": null,
   "metadata": {
    "vscode": {
     "languageId": "plaintext"
    }
   },
   "outputs": [],
   "source": []
  }
 ],
 "metadata": {
  "language_info": {
   "name": "python"
  }
 },
 "nbformat": 4,
 "nbformat_minor": 2
}
